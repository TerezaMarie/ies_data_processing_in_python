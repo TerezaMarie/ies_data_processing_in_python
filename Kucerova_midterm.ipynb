{
 "cells": [
  {
   "cell_type": "code",
   "execution_count": 193,
   "id": "73651a25-c926-4bcd-9fa1-f036b083c6b3",
   "metadata": {},
   "outputs": [],
   "source": [
    "import zipfile\n",
    "import csv\n",
    "import os\n",
    "import pandas as pd\n",
    "from datetime import datetime"
   ]
  },
  {
   "cell_type": "code",
   "execution_count": 64,
   "id": "391a0db8-1f11-4eb3-83bc-793b506bf247",
   "metadata": {},
   "outputs": [],
   "source": [
    "path = \"/Users/kucer/Documents/VS/tretak/python/midterm/data.zip\"\n",
    "path1 = \"/Users/data\"\n"
   ]
  },
  {
   "cell_type": "code",
   "execution_count": 66,
   "id": "1fb28ac8-043a-456b-afce-d67c1a6656fe",
   "metadata": {},
   "outputs": [
    {
     "name": "stdout",
     "output_type": "stream",
     "text": [
      "['data/', '__MACOSX/._data', 'data/MO.csv', '__MACOSX/data/._MO.csv', 'data/MET.csv', '__MACOSX/data/._MET.csv', 'data/CPB.csv', '__MACOSX/data/._CPB.csv', 'data/KEY.csv', '__MACOSX/data/._KEY.csv']\n"
     ]
    }
   ],
   "source": [
    "with zipfile.ZipFile(path, \"r\") as z:\n",
    "    print(z.namelist())\n",
    "    \n"
   ]
  },
  {
   "cell_type": "code",
   "execution_count": 82,
   "id": "6f2b7bd4-2b0e-4bcf-a2f0-7e04ca725361",
   "metadata": {},
   "outputs": [],
   "source": [
    "def difference_h_l(df):\n",
    "    for row in df:\n",
    "        difference = row[3] - row[4]\n",
    "        if difference == 0:\n",
    "            print(\"yes\")\n",
    "        "
   ]
  },
  {
   "cell_type": "code",
   "execution_count": 173,
   "id": "4eb4a29b-0bac-46b3-9540-4b722fa2fed3",
   "metadata": {},
   "outputs": [],
   "source": [
    "with zipfile.ZipFile(path, \"r\") as z:\n",
    "    with z.open('data/CPB.csv') as file1, \\\n",
    "        z.open('data/MO.csv') as file2, \\\n",
    "        z.open('data/KEY.csv') as file3, \\\n",
    "        z.open('data/MET.csv') as file4:\n",
    "            df_cpb = pd.read_csv(file1)\n",
    "            df_mo = pd.read_csv(file2)\n",
    "            df_key = pd.read_csv(file3)\n",
    "            df_met = pd.read_csv(file4)\n",
    "            #print(df_cpb)\n",
    "            diff_cpb = set()\n",
    "            diff_mo = set()\n",
    "            diff_key = set()\n",
    "            diff_met = set()\n",
    "            dfs = [df_cpb, df_mo, df_key, df_met] \n",
    "            for df in dfs:\n",
    "                diff = (df['High']. sum()) - (df['Low'].sum())\n",
    "                if diff == 0:\n",
    "                    print(df)\n",
    "\n",
    "            \n",
    "            #I dont know\n",
    "            for row in df_cpb:\n",
    "                difference = df_cpb[\"High\"] - df_cpb[\"Low\"]\n",
    "                diff_cpb.add(difference)\n",
    "                \n",
    "            for row in df_mo:\n",
    "                difference = df_mo[\"High\"] - df_mo[\"Low\"]\n",
    "                diff_mo.add(difference)\n",
    "\n",
    "            for row in df_key:\n",
    "                difference = df_key[\"High\"] - df_key[\"Low\"]\n",
    "                diff_key.add(difference)\n",
    "\n",
    "            for row in df_met:\n",
    "                difference = df_met[\"High\"] - df_met[\"Low\"]\n",
    "                diff_met.add(difference)\n",
    "            differences = [diff_cpb,diff_mo,diff_key,diff_met]\n",
    "            print(differences)               \n",
    "            \n",
    "            #print(df_key)"
   ]
  },
  {
   "cell_type": "code",
   "execution_count": 197,
   "id": "2e3a567e-1aea-4eab-9017-715623e8ea3e",
   "metadata": {},
   "outputs": [
    {
     "name": "stdout",
     "output_type": "stream",
     "text": [
      " Maximum:72.538, minimum: 20.812\n",
      " Logarithmic returns minimal: -0.16641106600511213, maximal:0.17340143207651093, mean:0.0006193166874847984, stdev:0.0205277676982871\n",
      " Maximum:72.538, minimum: 20.812\n",
      " Logarithmic returns minimal: -0.16641106600511213, maximal:0.17340143207651093, mean:0.0006193166874847984, stdev:0.0205277676982871\n",
      " Maximum:72.538, minimum: 20.812\n",
      " Logarithmic returns minimal: -0.16641106600511213, maximal:0.17340143207651093, mean:0.0006193166874847984, stdev:0.0205277676982871\n",
      " Maximum:72.538, minimum: 20.812\n",
      " Logarithmic returns minimal: -0.16641106600511213, maximal:0.17340143207651093, mean:0.0006193166874847984, stdev:0.0205277676982871\n"
     ]
    }
   ],
   "source": [
    "with zipfile.ZipFile(path, \"r\") as z:\n",
    "    with z.open('data/CPB.csv') as file1, \\\n",
    "        z.open('data/MO.csv') as file2, \\\n",
    "        z.open('data/KEY.csv') as file3, \\\n",
    "        z.open('data/MET.csv') as file4:\n",
    "            df_cpb = pd.read_csv(file1)\n",
    "            df_mo = pd.read_csv(file2)\n",
    "            df_key = pd.read_csv(file3)\n",
    "            df_met = pd.read_csv(file4)\n",
    "            dfs = [df_cpb, df_mo, df_key, df_met]\n",
    "\n",
    "            for i in range(len(dfs)):\n",
    "                max_high = df['High'].max()\n",
    "                lowest = df[\"High\"].min()\n",
    "                print(f' Maximum:{max_high}, minimum: {lowest}')\n",
    "                df['Return']= df['Close'].pct_change()\n",
    "                minimal = df['Return'].min()\n",
    "                maximal = df['Return'].max()\n",
    "                mean_return = df['Return'].mean()\n",
    "                sd_return = df['Return'].std()\n",
    "                print(f' Logarithmic returns minimal: {minimal}, maximal:{maximal}, mean:{mean_return}, stdev:{sd_return}')\n",
    "                \n",
    "\n",
    "\n",
    "            \n",
    "            \n",
    "\n",
    "\n",
    "\n",
    "\n",
    "\n",
    "\n",
    "            \n",
    "\n",
    "        "
   ]
  },
  {
   "cell_type": "code",
   "execution_count": 207,
   "id": "0a559a2b-ce6c-420f-abce-489bd5cf6dcc",
   "metadata": {},
   "outputs": [
    {
     "name": "stdout",
     "output_type": "stream",
     "text": [
      "349.6862659498988\n",
      "299.2528197343085\n",
      "390.0871703838496\n",
      "180.13614616170943\n"
     ]
    }
   ],
   "source": [
    "import random\n",
    "import numpy\n",
    "i = 0\n",
    "while i <4:\n",
    "    print(numpy.random.uniform(low = 100.0, high = 500.0, size = None))\n",
    "    i +=1"
   ]
  }
 ],
 "metadata": {
  "kernelspec": {
   "display_name": "Python 3 (ipykernel)",
   "language": "python",
   "name": "python3"
  },
  "language_info": {
   "codemirror_mode": {
    "name": "ipython",
    "version": 3
   },
   "file_extension": ".py",
   "mimetype": "text/x-python",
   "name": "python",
   "nbconvert_exporter": "python",
   "pygments_lexer": "ipython3",
   "version": "3.12.4"
  }
 },
 "nbformat": 4,
 "nbformat_minor": 5
}
